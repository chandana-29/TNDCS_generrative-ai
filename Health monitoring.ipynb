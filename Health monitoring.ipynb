{
  "metadata": {
    "kernelspec": {
      "display_name": "Python 3",
      "language": "python",
      "name": "python3"
    },
    "language_info": {
      "name": "python",
      "version": "3.6.6",
      "mimetype": "text/x-python",
      "codemirror_mode": {
        "name": "ipython",
        "version": 3
      },
      "pygments_lexer": "ipython3",
      "nbconvert_exporter": "python",
      "file_extension": ".py"
    },
    "kaggle": {
      "accelerator": "none",
      "dataSources": [
        {
          "sourceId": 55876,
          "sourceType": "datasetVersion",
          "datasetId": 36672
        }
      ],
      "dockerImageVersionId": 5671,
      "isInternetEnabled": false,
      "language": "python",
      "sourceType": "notebook",
      "isGpuEnabled": false
    },
    "colab": {
      "name": "notebook19ecf3948a",
      "provenance": [],
      "include_colab_link": true
    }
  },
  "nbformat_minor": 0,
  "nbformat": 4,
  "cells": [
    {
      "cell_type": "markdown",
      "metadata": {
        "id": "view-in-github",
        "colab_type": "text"
      },
      "source": [
        "<a href=\"https://colab.research.google.com/github/chandana-29/TNDCS_generrative-ai/blob/main/Health%20monitoring.ipynb\" target=\"_parent\"><img src=\"https://colab.research.google.com/assets/colab-badge.svg\" alt=\"Open In Colab\"/></a>"
      ]
    },
    {
      "source": [
        "\n",
        "# IMPORTANT: RUN THIS CELL IN ORDER TO IMPORT YOUR KAGGLE DATA SOURCES\n",
        "# TO THE CORRECT LOCATION (/kaggle/input) IN YOUR NOTEBOOK,\n",
        "# THEN FEEL FREE TO DELETE THIS CELL.\n",
        "# NOTE: THIS NOTEBOOK ENVIRONMENT DIFFERS FROM KAGGLE'S PYTHON\n",
        "# ENVIRONMENT SO THERE MAY BE MISSING LIBRARIES USED BY YOUR\n",
        "# NOTEBOOK.\n",
        "\n",
        "import os\n",
        "import sys\n",
        "from tempfile import NamedTemporaryFile\n",
        "from urllib.request import urlopen\n",
        "from urllib.parse import unquote, urlparse\n",
        "from urllib.error import HTTPError\n",
        "from zipfile import ZipFile\n",
        "import tarfile\n",
        "import shutil\n",
        "\n",
        "CHUNK_SIZE = 40960\n",
        "DATA_SOURCE_MAPPING = ':https%3A%2F%2Fstorage.googleapis.com%2Fkaggle-data-sets%2F36672%2F55876%2Fbundle%2Farchive.zip%3FX-Goog-Algorithm%3DGOOG4-RSA-SHA256%26X-Goog-Credential%3Dgcp-kaggle-com%2540kaggle-161607.iam.gserviceaccount.com%252F20240331%252Fauto%252Fstorage%252Fgoog4_request%26X-Goog-Date%3D20240331T152437Z%26X-Goog-Expires%3D259200%26X-Goog-SignedHeaders%3Dhost%26X-Goog-Signature%3D4ff6b2b2cef4d4222feb1289547103161377456b11d47c070642b0c9d1726c4ccceb304ca0b9c413e740f9c0de614e5d2baf2573b67b2d6bb51822be165a34f508a40c4cebaf95c4162a26793673c877d86285cdc1943f5230e1a271509589e8a43e72cc024796fa735d31d1e3f239767117cca64b123ddc991aa637a9406540a253cea7a4274e19721e994e35b84d77d6bd88a7fa7ec64982b9a19fb707579242289d2b3217e3745573e52ecbe74abb7ba3f73b6e4ca799a8ea59ae1a0669ddbafc77417316a73bbc26295f4681f02a471aba75cd9da3664f21797ab34582807bb8a577926322871c2ca4d949befb0a1b4ad5de668e1ee04c1ee0648212a1fd'\n",
        "\n",
        "KAGGLE_INPUT_PATH='/kaggle/input'\n",
        "KAGGLE_WORKING_PATH='/kaggle/working'\n",
        "KAGGLE_SYMLINK='kaggle'\n",
        "\n",
        "!umount /kaggle/input/ 2> /dev/null\n",
        "shutil.rmtree('/kaggle/input', ignore_errors=True)\n",
        "os.makedirs(KAGGLE_INPUT_PATH, 0o777, exist_ok=True)\n",
        "os.makedirs(KAGGLE_WORKING_PATH, 0o777, exist_ok=True)\n",
        "\n",
        "try:\n",
        "  os.symlink(KAGGLE_INPUT_PATH, os.path.join(\"..\", 'input'), target_is_directory=True)\n",
        "except FileExistsError:\n",
        "  pass\n",
        "try:\n",
        "  os.symlink(KAGGLE_WORKING_PATH, os.path.join(\"..\", 'working'), target_is_directory=True)\n",
        "except FileExistsError:\n",
        "  pass\n",
        "\n",
        "for data_source_mapping in DATA_SOURCE_MAPPING.split(','):\n",
        "    directory, download_url_encoded = data_source_mapping.split(':')\n",
        "    download_url = unquote(download_url_encoded)\n",
        "    filename = urlparse(download_url).path\n",
        "    destination_path = os.path.join(KAGGLE_INPUT_PATH, directory)\n",
        "    try:\n",
        "        with urlopen(download_url) as fileres, NamedTemporaryFile() as tfile:\n",
        "            total_length = fileres.headers['content-length']\n",
        "            print(f'Downloading {directory}, {total_length} bytes compressed')\n",
        "            dl = 0\n",
        "            data = fileres.read(CHUNK_SIZE)\n",
        "            while len(data) > 0:\n",
        "                dl += len(data)\n",
        "                tfile.write(data)\n",
        "                done = int(50 * dl / int(total_length))\n",
        "                sys.stdout.write(f\"\\r[{'=' * done}{' ' * (50-done)}] {dl} bytes downloaded\")\n",
        "                sys.stdout.flush()\n",
        "                data = fileres.read(CHUNK_SIZE)\n",
        "            if filename.endswith('.zip'):\n",
        "              with ZipFile(tfile) as zfile:\n",
        "                zfile.extractall(destination_path)\n",
        "            else:\n",
        "              with tarfile.open(tfile.name) as tarfile:\n",
        "                tarfile.extractall(destination_path)\n",
        "            print(f'\\nDownloaded and uncompressed: {directory}')\n",
        "    except HTTPError as e:\n",
        "        print(f'Failed to load (likely expired) {download_url} to path {destination_path}')\n",
        "        continue\n",
        "    except OSError as e:\n",
        "        print(f'Failed to load {download_url} to path {destination_path}')\n",
        "        continue\n",
        "\n",
        "print('Data source import complete.')\n"
      ],
      "metadata": {
        "id": "BvH87v_-HOaf"
      },
      "cell_type": "code",
      "outputs": [],
      "execution_count": null
    },
    {
      "cell_type": "markdown",
      "source": [
        "# LSTM For Predictive Maintenance"
      ],
      "metadata": {
        "_uuid": "301a3e54e6e35c277a77a9098390f18b6c536c2c",
        "id": "cEPl97RbHOap"
      }
    },
    {
      "cell_type": "markdown",
      "source": [
        "### Loading Libraries"
      ],
      "metadata": {
        "_uuid": "e8cc54871cf2081b408f750da8754f0e9c3298bd",
        "id": "JXIDSDaHHOas"
      }
    },
    {
      "cell_type": "code",
      "source": [
        "import pandas as pd\n",
        "import numpy as np\n",
        "from sklearn.preprocessing import MinMaxScaler\n",
        "from sklearn.metrics import confusion_matrix,accuracy_score\n",
        "\n",
        "from keras.models import Sequential\n",
        "from keras.layers import Dense, Dropout, LSTM, Activation\n",
        "from keras.callbacks import EarlyStopping\n",
        "\n",
        "import matplotlib.pyplot as plt\n",
        "plt.style.use('ggplot')\n",
        "%matplotlib inline"
      ],
      "metadata": {
        "_uuid": "f7b8ba8ca53b67ae95c36e2b37666a5613578983",
        "collapsed": true,
        "jupyter": {
          "outputs_hidden": true
        },
        "trusted": true,
        "id": "-_7qN_9_HOat"
      },
      "execution_count": null,
      "outputs": []
    },
    {
      "cell_type": "markdown",
      "source": [
        "### Loading Dataset"
      ],
      "metadata": {
        "_uuid": "d730655b568bdaab622ebfb776020c3596f1250f",
        "id": "dZHbhJx8HOau"
      }
    },
    {
      "cell_type": "code",
      "source": [
        "dataset_train=pd.read_csv('../input/PM_train.txt',sep=' ',header=None).drop([26,27],axis=1)\n",
        "col_names = ['id','cycle','setting1','setting2','setting3','s1','s2','s3','s4','s5','s6','s7','s8','s9','s10','s11','s12','s13','s14','s15','s16','s17','s18','s19','s20','s21']\n",
        "dataset_train.columns=col_names\n",
        "print('Shape of Train dataset: ',dataset_train.shape)\n",
        "dataset_train.head()"
      ],
      "metadata": {
        "_uuid": "f4550b5117f7c1d9a75281d3b2c013ee08e8eb83",
        "collapsed": true,
        "jupyter": {
          "outputs_hidden": true
        },
        "trusted": true,
        "id": "v6YhCH19HOau"
      },
      "execution_count": null,
      "outputs": []
    },
    {
      "cell_type": "code",
      "source": [
        "dataset_test=pd.read_csv('../input/PM_test.txt',sep=' ',header=None).drop([26,27],axis=1)\n",
        "dataset_test.columns=col_names\n",
        "#dataset_test.head()\n",
        "print('Shape of Test dataset: ',dataset_train.shape)\n",
        "dataset_train.head()"
      ],
      "metadata": {
        "_uuid": "aff2e5ec59ea26238a5b87f74b02f2163552541f",
        "collapsed": true,
        "jupyter": {
          "outputs_hidden": true
        },
        "trusted": true,
        "id": "Ru2HwyBDHOav"
      },
      "execution_count": null,
      "outputs": []
    },
    {
      "cell_type": "markdown",
      "source": [
        "#### Loadind Truth table"
      ],
      "metadata": {
        "_uuid": "7229b6ec7b3f416993db6572315da98ddd13fb51",
        "id": "Dsrz8yP6HOav"
      }
    },
    {
      "cell_type": "code",
      "source": [
        "pm_truth=pd.read_csv('../input/PM_truth.txt',sep=' ',header=None).drop([1],axis=1)\n",
        "pm_truth.columns=['more']\n",
        "pm_truth['id']=pm_truth.index+1\n",
        "pm_truth.head()"
      ],
      "metadata": {
        "_uuid": "ecb335d1e61debec54d5facfa4d6ae4124a035b0",
        "collapsed": true,
        "jupyter": {
          "outputs_hidden": true
        },
        "trusted": true,
        "id": "3kA2tdkCHOaw"
      },
      "execution_count": null,
      "outputs": []
    },
    {
      "cell_type": "code",
      "source": [
        "# generate column max for test data\n",
        "rul = pd.DataFrame(dataset_test.groupby('id')['cycle'].max()).reset_index()\n",
        "rul.columns = ['id', 'max']\n",
        "rul.head()"
      ],
      "metadata": {
        "_uuid": "658728d90236a6c8ff8403c1309f8fbf652075d8",
        "collapsed": true,
        "jupyter": {
          "outputs_hidden": true
        },
        "trusted": true,
        "id": "EzwBx2jEHOax"
      },
      "execution_count": null,
      "outputs": []
    },
    {
      "cell_type": "code",
      "source": [
        "# run to failure\n",
        "pm_truth['rtf']=pm_truth['more']+rul['max']\n",
        "pm_truth.head()"
      ],
      "metadata": {
        "_uuid": "0a52ed357e54e3e1132a779e2f8eeee36c35190f",
        "collapsed": true,
        "jupyter": {
          "outputs_hidden": true
        },
        "trusted": true,
        "id": "811cyKtLHOay"
      },
      "execution_count": null,
      "outputs": []
    },
    {
      "cell_type": "code",
      "source": [
        "pm_truth.drop('more', axis=1, inplace=True)\n",
        "dataset_test=dataset_test.merge(pm_truth,on=['id'],how='left')\n",
        "dataset_test['ttf']=dataset_test['rtf'] - dataset_test['cycle']\n",
        "dataset_test.drop('rtf', axis=1, inplace=True)\n",
        "dataset_test.head()"
      ],
      "metadata": {
        "_uuid": "908bbeb6187e023bc5d101bf3e48b4b585135fb4",
        "collapsed": true,
        "jupyter": {
          "outputs_hidden": true
        },
        "trusted": true,
        "id": "DdBjxtfrHOaz"
      },
      "execution_count": null,
      "outputs": []
    },
    {
      "cell_type": "code",
      "source": [
        "dataset_train['ttf'] = dataset_train.groupby(['id'])['cycle'].transform(max)-dataset_train['cycle']\n",
        "dataset_train.head()"
      ],
      "metadata": {
        "_uuid": "be2d5a5adae9acb6d6437e9d6d624a92bb543c97",
        "collapsed": true,
        "jupyter": {
          "outputs_hidden": true
        },
        "trusted": true,
        "id": "JJGLDQv4HOaz"
      },
      "execution_count": null,
      "outputs": []
    },
    {
      "cell_type": "code",
      "source": [
        "df_train=dataset_train.copy()\n",
        "df_test=dataset_test.copy()\n",
        "period=30\n",
        "df_train['label_bc'] = df_train['ttf'].apply(lambda x: 1 if x <= period else 0)\n",
        "df_test['label_bc'] = df_test['ttf'].apply(lambda x: 1 if x <= period else 0)\n",
        "df_train.head()"
      ],
      "metadata": {
        "_uuid": "fc33a4cce212b5012c4aaac756a21916b908939c",
        "collapsed": true,
        "jupyter": {
          "outputs_hidden": true
        },
        "trusted": true,
        "id": "yQs1kDlRHOa0"
      },
      "execution_count": null,
      "outputs": []
    },
    {
      "cell_type": "code",
      "source": [
        "features_col_name=['setting1', 'setting2', 'setting3', 's1', 's2', 's3', 's4', 's5', 's6', 's7', 's8', 's9', 's10', 's11',\n",
        "                   's12', 's13', 's14', 's15', 's16', 's17', 's18', 's19', 's20', 's21']\n",
        "target_col_name='label_bc'"
      ],
      "metadata": {
        "_uuid": "9d8b29314bf916035c74dfa708dee06d58b2e26e",
        "collapsed": true,
        "jupyter": {
          "outputs_hidden": true
        },
        "trusted": true,
        "id": "XNVpSUj6HOa0"
      },
      "execution_count": null,
      "outputs": []
    },
    {
      "cell_type": "markdown",
      "source": [
        "## Feature Scaling"
      ],
      "metadata": {
        "_uuid": "334405b9dea5f8d944185040fe542ec1daaf19e3",
        "id": "jfR8-Da2HOa1"
      }
    },
    {
      "cell_type": "code",
      "source": [
        "sc=MinMaxScaler()\n",
        "df_train[features_col_name]=sc.fit_transform(df_train[features_col_name])\n",
        "df_test[features_col_name]=sc.transform(df_test[features_col_name])"
      ],
      "metadata": {
        "_uuid": "2cda10744cb4d91878beb8f72bf3114925001587",
        "collapsed": true,
        "jupyter": {
          "outputs_hidden": true
        },
        "trusted": true,
        "id": "udJt9_HpHOa1"
      },
      "execution_count": null,
      "outputs": []
    },
    {
      "cell_type": "markdown",
      "source": [
        "## Function to reshape dataset as required by LSTM"
      ],
      "metadata": {
        "_uuid": "6a142a64564c5f3ba49740b21785cb92a5dfb808",
        "id": "LH-d1MhwHOa1"
      }
    },
    {
      "cell_type": "code",
      "source": [
        "def gen_sequence(id_df, seq_length, seq_cols):\n",
        "    df_zeros=pd.DataFrame(np.zeros((seq_length-1,id_df.shape[1])),columns=id_df.columns)\n",
        "    id_df=df_zeros.append(id_df,ignore_index=True)\n",
        "    data_array = id_df[seq_cols].values\n",
        "    num_elements = data_array.shape[0]\n",
        "    lstm_array=[]\n",
        "    for start, stop in zip(range(0, num_elements-seq_length), range(seq_length, num_elements)):\n",
        "        lstm_array.append(data_array[start:stop, :])\n",
        "    return np.array(lstm_array)\n",
        "\n",
        "# function to generate labels\n",
        "def gen_label(id_df, seq_length, seq_cols,label):\n",
        "    df_zeros=pd.DataFrame(np.zeros((seq_length-1,id_df.shape[1])),columns=id_df.columns)\n",
        "    id_df=df_zeros.append(id_df,ignore_index=True)\n",
        "    data_array = id_df[seq_cols].values\n",
        "    num_elements = data_array.shape[0]\n",
        "    y_label=[]\n",
        "    for start, stop in zip(range(0, num_elements-seq_length), range(seq_length, num_elements)):\n",
        "        y_label.append(id_df[label][stop])\n",
        "    return np.array(y_label)"
      ],
      "metadata": {
        "_uuid": "9a91c5704aee2424b77efcf86d16184b4cec08ff",
        "collapsed": true,
        "jupyter": {
          "outputs_hidden": true
        },
        "trusted": true,
        "id": "Mme80TnZHOa1"
      },
      "execution_count": null,
      "outputs": []
    },
    {
      "cell_type": "code",
      "source": [
        "# timestamp or window size\n",
        "seq_length=50\n",
        "seq_cols=features_col_name"
      ],
      "metadata": {
        "_uuid": "824b0ae2aef090974d66146bb2507ea7b722e514",
        "collapsed": true,
        "jupyter": {
          "outputs_hidden": true
        },
        "trusted": true,
        "id": "r9pjaIXKHOa2"
      },
      "execution_count": null,
      "outputs": []
    },
    {
      "cell_type": "code",
      "source": [
        "# generate X_train\n",
        "X_train=np.concatenate(list(list(gen_sequence(df_train[df_train['id']==id], seq_length, seq_cols)) for id in df_train['id'].unique()))\n",
        "print(X_train.shape)\n",
        "# generate y_train\n",
        "y_train=np.concatenate(list(list(gen_label(df_train[df_train['id']==id], 50, seq_cols,'label_bc')) for id in df_train['id'].unique()))\n",
        "print(y_train.shape)"
      ],
      "metadata": {
        "_uuid": "cf699e3df57a00b65d74b0cbf6ebca244d50bbe8",
        "collapsed": true,
        "jupyter": {
          "outputs_hidden": true
        },
        "trusted": true,
        "id": "oQ-xQS_hHOa2"
      },
      "execution_count": null,
      "outputs": []
    },
    {
      "cell_type": "code",
      "source": [
        "# generate X_test\n",
        "X_test=np.concatenate(list(list(gen_sequence(df_test[df_test['id']==id], seq_length, seq_cols)) for id in df_test['id'].unique()))\n",
        "print(X_test.shape)\n",
        "# generate y_test\n",
        "y_test=np.concatenate(list(list(gen_label(df_test[df_test['id']==id], 50, seq_cols,'label_bc')) for id in df_test['id'].unique()))\n",
        "print(y_test.shape)"
      ],
      "metadata": {
        "_uuid": "321c0ef06145b4b08383103932ad54853669b584",
        "collapsed": true,
        "jupyter": {
          "outputs_hidden": true
        },
        "trusted": true,
        "id": "KmwdiYweHOa2"
      },
      "execution_count": null,
      "outputs": []
    },
    {
      "cell_type": "markdown",
      "source": [
        "## LSTM Network"
      ],
      "metadata": {
        "_uuid": "bca00efbad30e5e50983e9097a4f817eb6468822",
        "id": "PHEnbuaQHOa2"
      }
    },
    {
      "cell_type": "code",
      "source": [
        "nb_features =X_train.shape[2]\n",
        "timestamp=seq_length\n",
        "\n",
        "model = Sequential()\n",
        "\n",
        "model.add(LSTM(\n",
        "         input_shape=(timestamp, nb_features),\n",
        "         units=100,\n",
        "         return_sequences=True))\n",
        "model.add(Dropout(0.2))\n",
        "\n",
        "model.add(LSTM(\n",
        "          units=50,\n",
        "          return_sequences=False))\n",
        "model.add(Dropout(0.2))\n",
        "\n",
        "model.add(Dense(units=1, activation='sigmoid'))\n",
        "model.compile(loss='binary_crossentropy', optimizer='adam', metrics=['accuracy'])\n",
        "\n",
        "model.summary()"
      ],
      "metadata": {
        "_uuid": "b125ec1d30bbf3fda850a3b0229ed07e12bc2e32",
        "collapsed": true,
        "jupyter": {
          "outputs_hidden": true
        },
        "trusted": true,
        "id": "GJnH2BLLHOa3"
      },
      "execution_count": null,
      "outputs": []
    },
    {
      "cell_type": "code",
      "source": [
        "# fit the network\n",
        "model.fit(X_train, y_train, epochs=10, batch_size=200, validation_split=0.05, verbose=1,\n",
        "          callbacks = [EarlyStopping(monitor='val_loss', min_delta=0, patience=0, verbose=0, mode='auto')])"
      ],
      "metadata": {
        "_uuid": "b8f2d754b02a3917b4ae94696d887b30b60bc3bb",
        "collapsed": true,
        "jupyter": {
          "outputs_hidden": true
        },
        "trusted": true,
        "id": "Y502lJBYHOa3"
      },
      "execution_count": null,
      "outputs": []
    },
    {
      "cell_type": "code",
      "source": [
        "# training metrics\n",
        "scores = model.evaluate(X_train, y_train, verbose=1, batch_size=200)\n",
        "print('Accurracy: {}'.format(scores[1]))"
      ],
      "metadata": {
        "_uuid": "7d4356e5820cf68d05f1f5ad13e01b123438da69",
        "collapsed": true,
        "jupyter": {
          "outputs_hidden": true
        },
        "trusted": true,
        "id": "REIQB3QLHOa3"
      },
      "execution_count": null,
      "outputs": []
    },
    {
      "cell_type": "code",
      "source": [],
      "metadata": {
        "_uuid": "f5f05044f8b735d29bdfff0461d96dae004e00a5",
        "collapsed": true,
        "jupyter": {
          "outputs_hidden": true
        },
        "trusted": true,
        "id": "Uig5_KWnHOa3"
      },
      "execution_count": null,
      "outputs": []
    },
    {
      "cell_type": "code",
      "source": [
        "y_pred=model.predict_classes(X_test)\n",
        "print('Accuracy of model on test data: ',accuracy_score(y_test,y_pred))\n",
        "print('Confusion Matrix: \\n',confusion_matrix(y_test,y_pred))"
      ],
      "metadata": {
        "_uuid": "9f823f029f31c91e44078e48f78d4b1b0767c32b",
        "collapsed": true,
        "jupyter": {
          "outputs_hidden": true
        },
        "trusted": true,
        "id": "DyUN2AIfHOa3"
      },
      "execution_count": null,
      "outputs": []
    },
    {
      "cell_type": "markdown",
      "source": [
        "### Probability of Machine failure"
      ],
      "metadata": {
        "_uuid": "5ee3f37a6d92fe6afde144d2002dd12bf81b1c0f",
        "id": "hsNZkdwbHOa4"
      }
    },
    {
      "cell_type": "code",
      "source": [
        "def prob_failure(machine_id):\n",
        "    machine_df=df_test[df_test.id==machine_id]\n",
        "    machine_test=gen_sequence(machine_df,seq_length,seq_cols)\n",
        "    m_pred=model.predict(machine_test)\n",
        "    failure_prob=list(m_pred[-1]*100)[0]\n",
        "    return failure_prob"
      ],
      "metadata": {
        "_uuid": "8c560c8c87b0f517541023993b29ccdb5a164578",
        "collapsed": true,
        "jupyter": {
          "outputs_hidden": true
        },
        "trusted": true,
        "id": "i4RM-LQDHOa4"
      },
      "execution_count": null,
      "outputs": []
    },
    {
      "cell_type": "code",
      "source": [
        "machine_id=16\n",
        "print('Probability that machine will fail within 30 days: ',prob_failure(machine_id))"
      ],
      "metadata": {
        "_uuid": "ea0dc49ef23306ddf8887c876bb8d128a6bec403",
        "collapsed": true,
        "jupyter": {
          "outputs_hidden": true
        },
        "trusted": true,
        "id": "v8piIyfOHOa4"
      },
      "execution_count": null,
      "outputs": []
    },
    {
      "cell_type": "code",
      "source": [],
      "metadata": {
        "_uuid": "c4435446bc9bdf3655f8d42df033a3c05bdb5f1f",
        "collapsed": true,
        "jupyter": {
          "outputs_hidden": true
        },
        "id": "hthRkgwmHOa4"
      },
      "execution_count": null,
      "outputs": []
    }
  ]
}